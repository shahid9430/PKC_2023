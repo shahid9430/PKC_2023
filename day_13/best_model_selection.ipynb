{
 "cells": [
  {
   "attachments": {},
   "cell_type": "markdown",
   "metadata": {},
   "source": [
    "# Best Model Selection"
   ]
  },
  {
   "cell_type": "code",
   "execution_count": 1,
   "metadata": {},
   "outputs": [],
   "source": [
    "import pandas as pd\n",
    "import numpy as np\n",
    "import seaborn as sns\n",
    "import matplotlib.pyplot as plt"
   ]
  },
  {
   "cell_type": "code",
   "execution_count": 5,
   "metadata": {},
   "outputs": [],
   "source": [
    "df= sns.load_dataset('titanic')\n",
    "X= df[['pclass', 'fare', 'sex', 'age','sibsp', 'parch']]\n",
    "y= df['survived']\n",
    "X= pd.get_dummies(X, columns=['sex'])\n",
    "# fill the null values of age col\n",
    "X['age'].fillna(X['age'].mean(), inplace=True)"
   ]
  },
  {
   "cell_type": "code",
   "execution_count": 6,
   "metadata": {},
   "outputs": [
    {
     "name": "stdout",
     "output_type": "stream",
     "text": [
      "Accuracy Score: logistic Regression:  0.81\n",
      "Accuracy Score: Decision Tree:  0.81\n",
      "Accuracy Score: svm:  0.75\n",
      "Accuracy Score: Random Forest:  0.69\n",
      "Accuracy Score: kNN:  0.66\n"
     ]
    }
   ],
   "source": [
    "from sklearn.linear_model import LogisticRegression\n",
    "from sklearn.svm import SVC\n",
    "from sklearn.tree import DecisionTreeClassifier\n",
    "from sklearn.ensemble import RandomForestClassifier\n",
    "from sklearn.neighbors import KNeighborsClassifier\n",
    "\n",
    "# import the metrics from sk learn\n",
    "from sklearn.metrics import accuracy_score, f1_score, recall_score, precision_score\n",
    "from sklearn.model_selection import train_test_split\n",
    "X_train, X_test, y_train, y_test= train_test_split(X,y, test_size=0.2, random_state=42)\n",
    "models= [LogisticRegression(), DecisionTreeClassifier(), SVC(), KNeighborsClassifier(), RandomForestClassifier()]\n",
    "model_names= ['logistic Regression', 'svm', 'kNN', 'Random Forest', 'Decision Tree']\n",
    "\n",
    "models_scores=[]\n",
    "for model , model_names in zip(models,model_names):\n",
    "    model= model.fit(X_train, y_train)\n",
    "    y_pred= model.predict(X_test)\n",
    "    accuracy= accuracy_score(y_test, y_pred)\n",
    "    models_scores.append([model_names, accuracy])\n",
    "\n",
    "sorted_models= sorted(models_scores, key=lambda x: x[1], reverse=True)\n",
    "for model in sorted_models:\n",
    "    print('Accuracy Score:',f'{model[0]}: {model[1]: 0.2f}')\n"
   ]
  },
  {
   "cell_type": "code",
   "execution_count": 7,
   "metadata": {},
   "outputs": [
    {
     "name": "stdout",
     "output_type": "stream",
     "text": [
      "Recall Score: logistic Regression:  0.81\n",
      "Recall Score: svm:  0.81\n",
      "Recall Score: kNN:  0.81\n",
      "Recall Score: Random Forest:  0.81\n",
      "Recall Score: Decision Tree:  0.81\n"
     ]
    }
   ],
   "source": [
    "# to check recall score\n",
    "from sklearn.linear_model import LogisticRegression\n",
    "from sklearn.svm import SVC\n",
    "from sklearn.tree import DecisionTreeClassifier\n",
    "from sklearn.ensemble import RandomForestClassifier\n",
    "from sklearn.neighbors import KNeighborsClassifier\n",
    "\n",
    "# import the metrics from sk learn\n",
    "from sklearn.metrics import accuracy_score, f1_score, recall_score, precision_score\n",
    "from sklearn.model_selection import train_test_split\n",
    "X_train, X_test, y_train, y_test= train_test_split(X,y, test_size=0.2, random_state=42)\n",
    "models= [LogisticRegression(), DecisionTreeClassifier(), SVC(), KNeighborsClassifier(), RandomForestClassifier()]\n",
    "model_names= ['logistic Regression', 'svm', 'kNN', 'Random Forest', 'Decision Tree']\n",
    "\n",
    "models_scores=[]\n",
    "for model , model_names in zip(models,model_names):\n",
    "    model= model.fit(X_train, y_train)\n",
    "    y_pred= model.predict(X_test)\n",
    "    Recall_score= recall_score(y_test, y_pred)\n",
    "    models_scores.append([model_names, accuracy])\n",
    "\n",
    "sorted_models= sorted(models_scores, key=lambda x: x[1], reverse=True)\n",
    "for model in sorted_models:\n",
    "    print('Recall Score:',f'{model[0]}: {model[1]: 0.2f}')"
   ]
  },
  {
   "cell_type": "code",
   "execution_count": 8,
   "metadata": {},
   "outputs": [
    {
     "name": "stdout",
     "output_type": "stream",
     "text": [
      "Precision Score: logistic Regression:  0.81\n",
      "Precision Score: svm:  0.81\n",
      "Precision Score: kNN:  0.81\n",
      "Precision Score: Random Forest:  0.81\n",
      "Precision Score: Decision Tree:  0.81\n"
     ]
    }
   ],
   "source": [
    "# to check precision score\n",
    "from sklearn.linear_model import LogisticRegression\n",
    "from sklearn.svm import SVC\n",
    "from sklearn.tree import DecisionTreeClassifier\n",
    "from sklearn.ensemble import RandomForestClassifier\n",
    "from sklearn.neighbors import KNeighborsClassifier\n",
    "\n",
    "# import the metrics from sk learn\n",
    "from sklearn.metrics import accuracy_score, f1_score, recall_score, precision_score\n",
    "from sklearn.model_selection import train_test_split\n",
    "X_train, X_test, y_train, y_test= train_test_split(X,y, test_size=0.2, random_state=42)\n",
    "models= [LogisticRegression(), DecisionTreeClassifier(), SVC(), KNeighborsClassifier(), RandomForestClassifier()]\n",
    "model_names= ['logistic Regression', 'svm', 'kNN', 'Random Forest', 'Decision Tree']\n",
    "\n",
    "models_scores=[]\n",
    "for model , model_names in zip(models,model_names):\n",
    "    model= model.fit(X_train, y_train)\n",
    "    y_pred= model.predict(X_test)\n",
    "    Preciision= precision_score(y_test, y_pred)\n",
    "    models_scores.append([model_names, accuracy])\n",
    "\n",
    "sorted_models= sorted(models_scores, key=lambda x: x[1], reverse=True)\n",
    "for model in sorted_models:\n",
    "    print('Precision Score:',f'{model[0]}: {model[1]: 0.2f}')"
   ]
  },
  {
   "cell_type": "code",
   "execution_count": 13,
   "metadata": {},
   "outputs": [
    {
     "name": "stdout",
     "output_type": "stream",
     "text": [
      "f Score: logistic Regression:  0.81\n",
      "f Score: svm:  0.81\n",
      "f Score: kNN:  0.81\n",
      "f Score: Random Forest:  0.81\n",
      "f Score: Decision Tree:  0.81\n"
     ]
    }
   ],
   "source": [
    "# to check f1 score of all models\n",
    "from sklearn.linear_model import LogisticRegression\n",
    "from sklearn.svm import SVC\n",
    "from sklearn.tree import DecisionTreeClassifier\n",
    "from sklearn.ensemble import RandomForestClassifier\n",
    "from sklearn.neighbors import KNeighborsClassifier\n",
    "\n",
    "# import the metrics from sk learn\n",
    "from sklearn.metrics import accuracy_score, f1_score, recall_score, precision_score\n",
    "from sklearn.model_selection import train_test_split\n",
    "X_train, X_test, y_train, y_test= train_test_split(X,y, test_size=0.2, random_state=42)\n",
    "models= [LogisticRegression(), DecisionTreeClassifier(), SVC(), KNeighborsClassifier(), RandomForestClassifier()]\n",
    "model_names= ['logistic Regression', 'svm', 'kNN', 'Random Forest', 'Decision Tree']\n",
    "\n",
    "models_scores=[]\n",
    "for model , model_names in zip(models,model_names):\n",
    "    model= model.fit(X_train, y_train)\n",
    "    y_pred= model.predict(X_test)\n",
    "    F1= f1_score(y_test, y_pred)\n",
    "    models_scores.append([model_names, accuracy])\n",
    "\n",
    "sorted_models= sorted(models_scores, key=lambda x: x[1], reverse=True)\n",
    "for model in sorted_models:\n",
    "     print('f Score:',f'{model[0]}: {model[1]: 0.2f}')"
   ]
  }
 ],
 "metadata": {
  "kernelspec": {
   "display_name": "Python 3",
   "language": "python",
   "name": "python3"
  },
  "language_info": {
   "codemirror_mode": {
    "name": "ipython",
    "version": 3
   },
   "file_extension": ".py",
   "mimetype": "text/x-python",
   "name": "python",
   "nbconvert_exporter": "python",
   "pygments_lexer": "ipython3",
   "version": "3.11.4"
  },
  "orig_nbformat": 4
 },
 "nbformat": 4,
 "nbformat_minor": 2
}
