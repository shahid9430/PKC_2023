{
 "cells": [
  {
   "cell_type": "code",
   "execution_count": 2,
   "metadata": {},
   "outputs": [
    {
     "name": "stderr",
     "output_type": "stream",
     "text": [
      "c:\\Users\\BROTHER COMPUTER\\AppData\\Local\\Programs\\Python\\Python311\\Lib\\site-packages\\sklearn\\linear_model\\_logistic.py:460: ConvergenceWarning: lbfgs failed to converge (status=1):\n",
      "STOP: TOTAL NO. of ITERATIONS REACHED LIMIT.\n",
      "\n",
      "Increase the number of iterations (max_iter) or scale the data as shown in:\n",
      "    https://scikit-learn.org/stable/modules/preprocessing.html\n",
      "Please also refer to the documentation for alternative solver options:\n",
      "    https://scikit-learn.org/stable/modules/linear_model.html#logistic-regression\n",
      "  n_iter_i = _check_optimize_result(\n"
     ]
    },
    {
     "name": "stdout",
     "output_type": "stream",
     "text": [
      "Logistic Regression Accuracy: 1.0\n",
      "SVM Accuracy: 1.0\n",
      "Naive Bayes Accuracy: 1.0\n",
      "Random Forest Accuracy: 1.0\n",
      "Decision Tree Accuracy: 1.0\n",
      "K-Nearest Neighbors Accuracy: 1.0\n"
     ]
    }
   ],
   "source": [
    "import pandas as pd\n",
    "import seaborn as sns\n",
    "from sklearn.datasets import load_iris\n",
    "from sklearn.model_selection import train_test_split\n",
    "from sklearn.linear_model import LogisticRegression\n",
    "from sklearn.svm import SVC\n",
    "from sklearn.naive_bayes import GaussianNB\n",
    "from sklearn.ensemble import RandomForestClassifier\n",
    "from sklearn.tree import DecisionTreeClassifier\n",
    "from sklearn.neighbors import KNeighborsClassifier\n",
    "from sklearn.metrics import accuracy_score\n",
    "\n",
    "# Load the Iris dataset\n",
    "iris = load_iris()\n",
    "X, y = iris.data, iris.target\n",
    "\n",
    "# Split the data into training and testing sets\n",
    "X_train, X_test, y_train, y_test = train_test_split(X, y, test_size=0.2, random_state=42)\n",
    "\n",
    "# Initialize models\n",
    "logistic_model = LogisticRegression()\n",
    "svm_model = SVC()\n",
    "naive_bayes_model = GaussianNB()\n",
    "random_forest_model = RandomForestClassifier()\n",
    "decision_tree_model = DecisionTreeClassifier()\n",
    "knn_model = KNeighborsClassifier()\n",
    "\n",
    "# Train models\n",
    "logistic_model.fit(X_train, y_train)\n",
    "svm_model.fit(X_train, y_train)\n",
    "naive_bayes_model.fit(X_train, y_train)\n",
    "random_forest_model.fit(X_train, y_train)\n",
    "decision_tree_model.fit(X_train, y_train)\n",
    "knn_model.fit(X_train, y_train)\n",
    "\n",
    "# Make predictions on the testing set\n",
    "logistic_pred = logistic_model.predict(X_test)\n",
    "svm_pred = svm_model.predict(X_test)\n",
    "naive_bayes_pred = naive_bayes_model.predict(X_test)\n",
    "random_forest_pred = random_forest_model.predict(X_test)\n",
    "decision_tree_pred = decision_tree_model.predict(X_test)\n",
    "knn_pred = knn_model.predict(X_test)\n",
    "\n",
    "# Evaluate performance using accuracy\n",
    "logistic_accuracy = accuracy_score(y_test, logistic_pred)\n",
    "svm_accuracy = accuracy_score(y_test, svm_pred)\n",
    "naive_bayes_accuracy = accuracy_score(y_test, naive_bayes_pred)\n",
    "random_forest_accuracy = accuracy_score(y_test, random_forest_pred)\n",
    "decision_tree_accuracy = accuracy_score(y_test, decision_tree_pred)\n",
    "knn_accuracy = accuracy_score(y_test, knn_pred)\n",
    "\n",
    "# Compare model performances\n",
    "print(\"Logistic Regression Accuracy:\", logistic_accuracy)\n",
    "print(\"SVM Accuracy:\", svm_accuracy)\n",
    "print(\"Naive Bayes Accuracy:\", naive_bayes_accuracy)\n",
    "print(\"Random Forest Accuracy:\", random_forest_accuracy)\n",
    "print(\"Decision Tree Accuracy:\", decision_tree_accuracy)\n",
    "print(\"K-Nearest Neighbors Accuracy:\", knn_accuracy)\n"
   ]
  }
 ],
 "metadata": {
  "kernelspec": {
   "display_name": "Python 3",
   "language": "python",
   "name": "python3"
  },
  "language_info": {
   "codemirror_mode": {
    "name": "ipython",
    "version": 3
   },
   "file_extension": ".py",
   "mimetype": "text/x-python",
   "name": "python",
   "nbconvert_exporter": "python",
   "pygments_lexer": "ipython3",
   "version": "3.11.4"
  },
  "orig_nbformat": 4
 },
 "nbformat": 4,
 "nbformat_minor": 2
}
